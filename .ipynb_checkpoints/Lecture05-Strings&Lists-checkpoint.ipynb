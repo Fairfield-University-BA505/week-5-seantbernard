{
 "cells": [
  {
   "cell_type": "markdown",
   "metadata": {
    "slideshow": {
     "slide_type": "slide"
    }
   },
   "source": [
    "![DSB Logo](img/Dolan.jpg)\n",
    "# Python Data Types: Strings\n",
    "## PY4E Chapter 6\n",
    "### How data are stored and processed in Python"
   ]
  },
  {
   "cell_type": "markdown",
   "metadata": {
    "slideshow": {
     "slide_type": "slide"
    }
   },
   "source": [
    "# String is a Sequence\n",
    "\n",
    "- As we seen before, strings are sequences\n",
    "    - a sequence is a collection of elements\n",
    "    - also it is directional, meaning you can _index_ elements from it\n",
    "        - if a string `my_str`, you can use `[]` to index it\n",
    "        - notice that in Python (and many other languages), index always starts with `0`\n",
    "        - all indices need to of _integer_ type\n",
    "        - but you can use _values_, _variables_, _expressions_ and/or _operators_"
   ]
  },
  {
   "cell_type": "code",
   "execution_count": 2,
   "metadata": {},
   "outputs": [
    {
     "data": {
      "text/plain": [
       "'N'"
      ]
     },
     "execution_count": 2,
     "metadata": {},
     "output_type": "execute_result"
    }
   ],
   "source": [
    "my_str = 'New England Patriots'\n",
    "my_str[0]"
   ]
  },
  {
   "cell_type": "markdown",
   "metadata": {},
   "source": [
    "## always remember that [] implies some sort of list.  "
   ]
  },
  {
   "cell_type": "code",
   "execution_count": 3,
   "metadata": {},
   "outputs": [],
   "source": [
    "# [a,b,c,d]\n",
    "# this would equate to [0][1][2][3]\n",
    "# we can use values, operators, and expressions as an index as long as it falls within the index and is an integer\n",
    "# can't use an assignment statements as indexes "
   ]
  },
  {
   "cell_type": "code",
   "execution_count": 4,
   "metadata": {
    "slideshow": {
     "slide_type": "subslide"
    }
   },
   "outputs": [
    {
     "ename": "TypeError",
     "evalue": "string indices must be integers",
     "output_type": "error",
     "traceback": [
      "\u001b[0;31m---------------------------------------------------------------------------\u001b[0m",
      "\u001b[0;31mTypeError\u001b[0m                                 Traceback (most recent call last)",
      "\u001b[0;32m<ipython-input-4-ef8f1ded798a>\u001b[0m in \u001b[0;36m<module>\u001b[0;34m\u001b[0m\n\u001b[1;32m      1\u001b[0m \u001b[0;31m# this will throw an error\u001b[0m\u001b[0;34m\u001b[0m\u001b[0;34m\u001b[0m\u001b[0;34m\u001b[0m\u001b[0m\n\u001b[0;32m----> 2\u001b[0;31m \u001b[0mmy_str\u001b[0m\u001b[0;34m[\u001b[0m\u001b[0;36m1.5\u001b[0m\u001b[0;34m]\u001b[0m\u001b[0;34m\u001b[0m\u001b[0;34m\u001b[0m\u001b[0m\n\u001b[0m",
      "\u001b[0;31mTypeError\u001b[0m: string indices must be integers"
     ]
    }
   ],
   "source": [
    "# this will throw an error\n",
    "my_str[1.5]"
   ]
  },
  {
   "cell_type": "code",
   "execution_count": null,
   "metadata": {
    "slideshow": {
     "slide_type": "subslide"
    }
   },
   "outputs": [],
   "source": [
    "b = 0\n",
    "my_str[0]"
   ]
  },
  {
   "cell_type": "code",
   "execution_count": null,
   "metadata": {
    "slideshow": {
     "slide_type": "subslide"
    }
   },
   "outputs": [],
   "source": [
    "my_str[b+4]"
   ]
  },
  {
   "cell_type": "markdown",
   "metadata": {
    "slideshow": {
     "slide_type": "slide"
    }
   },
   "source": [
    "# Getting the Length of a String\n",
    "\n",
    "- For the sequence type (string included), Python provides a built-in function `len()` to return its length\n",
    "    - so you don't have to do a `for` loop for this\n",
    "    - `len()` is a very powerful and useful function in most sequence types\n",
    "    - you can always use `len()` to get the last element from a sequence\n",
    "        - note that string starts with index `0`"
   ]
  },
  {
   "cell_type": "code",
   "execution_count": null,
   "metadata": {
    "slideshow": {
     "slide_type": "subslide"
    }
   },
   "outputs": [],
   "source": [
    "len(my_str)"
   ]
  },
  {
   "cell_type": "code",
   "execution_count": null,
   "metadata": {
    "slideshow": {
     "slide_type": "subslide"
    }
   },
   "outputs": [],
   "source": [
    "# this will throw an error\n",
    "my_str[len(my_str)]"
   ]
  },
  {
   "cell_type": "code",
   "execution_count": null,
   "metadata": {
    "slideshow": {
     "slide_type": "subslide"
    }
   },
   "outputs": [],
   "source": [
    "# this can fix the error\n",
    "my_str[len(my_str) -1]"
   ]
  },
  {
   "cell_type": "code",
   "execution_count": null,
   "metadata": {
    "slideshow": {
     "slide_type": "subslide"
    }
   },
   "outputs": [],
   "source": [
    "# similarly, you can use the `-1` index for the last element\n",
    "# this essentially acts as the length - 1\n",
    "\n",
    "my_str[-1]"
   ]
  },
  {
   "cell_type": "markdown",
   "metadata": {
    "slideshow": {
     "slide_type": "slide"
    }
   },
   "source": [
    "# More on String Indexing\n",
    "\n",
    "- If you want to slide from the beginning of a string (_left_ to _right_), you should use __positive__ indexing\n",
    "    - for instance, the first letter is `my_str[0]` , then `my_str[1]`, ...\n",
    "- if you want to slide from the end of a string (_right_ to _left_), you should use __negaive__ indexing\n",
    "    - for instance, the first letter is `my_str[-1]` , then `my_str[-2]`, ..."
   ]
  },
  {
   "cell_type": "code",
   "execution_count": null,
   "metadata": {
    "slideshow": {
     "slide_type": "subslide"
    }
   },
   "outputs": [],
   "source": [
    "my_str[-3]"
   ]
  },
  {
   "cell_type": "markdown",
   "metadata": {
    "slideshow": {
     "slide_type": "slide"
    }
   },
   "source": [
    "# More on String Indexing\n",
    "\n",
    "- You can always index more than 1 elements (letters) from a string\n",
    "    - it is called _slicing_\n",
    "    - you can use `:` symbol to slice a string\n",
    "    - slicing can happen from either ends, or even both!"
   ]
  },
  {
   "cell_type": "code",
   "execution_count": null,
   "metadata": {
    "slideshow": {
     "slide_type": "subslide"
    }
   },
   "outputs": [],
   "source": [
    "# this will return the whole string\n",
    "# it means start from the first element and show the rest from left to right\n",
    "\n",
    "my_str[0:]"
   ]
  },
  {
   "cell_type": "code",
   "execution_count": null,
   "metadata": {},
   "outputs": [],
   "source": [
    "# can also do just ':'\n",
    "my_str[:]"
   ]
  },
  {
   "cell_type": "code",
   "execution_count": null,
   "metadata": {
    "slideshow": {
     "slide_type": "subslide"
    }
   },
   "outputs": [],
   "source": [
    "# this will return the string but the first letter\n",
    "my_str[1:]"
   ]
  },
  {
   "cell_type": "code",
   "execution_count": null,
   "metadata": {
    "slideshow": {
     "slide_type": "subslide"
    }
   },
   "outputs": [],
   "source": [
    "# this will return the string but the last letter\n",
    "my_str[:-1]"
   ]
  },
  {
   "cell_type": "code",
   "execution_count": null,
   "metadata": {
    "slideshow": {
     "slide_type": "subslide"
    }
   },
   "outputs": [],
   "source": [
    "# try slicing from both ends\n",
    "# going to try and only extract 'Patriot'\n",
    "my_str[12:-1]"
   ]
  },
  {
   "cell_type": "markdown",
   "metadata": {
    "slideshow": {
     "slide_type": "slide"
    }
   },
   "source": [
    "# More on String Slicing\n",
    "\n",
    "- As long as you know how indexing on a string works, you can retrieve any part of the string use _slicing_\n",
    "- for instance:\n",
    "- Question: what would below statement return?\n",
    "```python\n",
    "my_str[:]\n",
    "```"
   ]
  },
  {
   "cell_type": "code",
   "execution_count": null,
   "metadata": {
    "slideshow": {
     "slide_type": "subslide"
    }
   },
   "outputs": [],
   "source": [
    "my_str[0:11]"
   ]
  },
  {
   "cell_type": "code",
   "execution_count": null,
   "metadata": {
    "slideshow": {
     "slide_type": "subslide"
    }
   },
   "outputs": [],
   "source": [
    "# note that space is also a character\n",
    "my_str[3]"
   ]
  },
  {
   "cell_type": "code",
   "execution_count": null,
   "metadata": {
    "slideshow": {
     "slide_type": "subslide"
    }
   },
   "outputs": [],
   "source": [
    "# you can also starts from the end\n",
    "my_str[-8:-1]"
   ]
  },
  {
   "cell_type": "code",
   "execution_count": null,
   "metadata": {},
   "outputs": [],
   "source": [
    "# how can you explain the below results?\n",
    "my_str[1:1]\n",
    "\n",
    "# there is no inclusive element, so there is nothing to output"
   ]
  },
  {
   "cell_type": "markdown",
   "metadata": {
    "slideshow": {
     "slide_type": "slide"
    }
   },
   "source": [
    "# Traverse through a String with Loops\n",
    "\n",
    "- Sometimes we want to go through a string a letter by a letter\n",
    "- Then do something about the letter\n",
    "- And continue all the way to the string\n",
    "- This pattern is called _traversal_\n",
    "    - and this fits the purpose of a loop"
   ]
  },
  {
   "cell_type": "code",
   "execution_count": null,
   "metadata": {
    "slideshow": {
     "slide_type": "subslide"
    }
   },
   "outputs": [],
   "source": [
    "# use a while loop to traverse through `my_str` from beginning\n",
    "index = 0\n",
    "while index < len(my_str):\n",
    "    letter = my_str[index]\n",
    "    print(letter)\n",
    "    index = index + 1"
   ]
  },
  {
   "cell_type": "markdown",
   "metadata": {
    "slideshow": {
     "slide_type": "slide"
    }
   },
   "source": [
    "# Your Turn Here \n",
    "\n",
    "Write a `while` loop traverse through `my_str` from the end."
   ]
  },
  {
   "cell_type": "code",
   "execution_count": null,
   "metadata": {
    "slideshow": {
     "slide_type": "subslide"
    }
   },
   "outputs": [],
   "source": [
    "# hint 1\n",
    "len(my_str)"
   ]
  },
  {
   "cell_type": "code",
   "execution_count": null,
   "metadata": {
    "slideshow": {
     "slide_type": "subslide"
    }
   },
   "outputs": [],
   "source": [
    "# hint 2\n",
    "my_str[-13]"
   ]
  },
  {
   "cell_type": "code",
   "execution_count": 5,
   "metadata": {
    "slideshow": {
     "slide_type": "subslide"
    }
   },
   "outputs": [
    {
     "name": "stdout",
     "output_type": "stream",
     "text": [
      "s\n",
      "t\n",
      "o\n",
      "i\n",
      "r\n",
      "t\n",
      "a\n",
      "P\n",
      " \n",
      "d\n",
      "n\n",
      "a\n",
      "l\n",
      "g\n",
      "n\n",
      "E\n",
      " \n",
      "w\n",
      "e\n",
      "N\n"
     ]
    }
   ],
   "source": [
    "index = -1\n",
    "while index >= -len(my_str):\n",
    "    letter = my_str[index]\n",
    "    print(letter)\n",
    "    index = index - 1"
   ]
  },
  {
   "cell_type": "code",
   "execution_count": 6,
   "metadata": {
    "slideshow": {
     "slide_type": "slide"
    }
   },
   "outputs": [
    {
     "name": "stdout",
     "output_type": "stream",
     "text": [
      "N\n",
      "e\n",
      "w\n",
      " \n",
      "E\n",
      "n\n",
      "g\n",
      "l\n",
      "a\n",
      "n\n",
      "d\n",
      " \n",
      "P\n",
      "a\n",
      "t\n",
      "r\n",
      "i\n",
      "o\n",
      "t\n",
      "s\n"
     ]
    }
   ],
   "source": [
    "# But more often we use `for` loops to traverse through a string\n",
    "# Use the knowledge from Lecture last week, what is the iteration variable? what is the collection?\n",
    "# How do we control so that this is not an infinite loop?\n",
    "for char in my_str:\n",
    "    print(char)"
   ]
  },
  {
   "cell_type": "markdown",
   "metadata": {
    "slideshow": {
     "slide_type": "slide"
    }
   },
   "source": [
    "# Looping and Counting\n",
    "\n",
    "- We already learned how to count items from a collection\n",
    "    - if you don't remember how to do that, refer to the contents last week\n",
    "    - string is a collection as well\n",
    "    - however, we do not need to count _all_ items in string since we have `len()` for that\n",
    "    - but we can count occrrence of a certain item in string"
   ]
  },
  {
   "cell_type": "code",
   "execution_count": 7,
   "metadata": {},
   "outputs": [
    {
     "name": "stdout",
     "output_type": "stream",
     "text": [
      "l appears 1 times\n"
     ]
    }
   ],
   "source": [
    "count = 0\n",
    "for letter in my_str:\n",
    "    if letter == 'l': \n",
    "        count = count + 1\n",
    "print('l appears', count, 'times')"
   ]
  },
  {
   "cell_type": "markdown",
   "metadata": {
    "slideshow": {
     "slide_type": "slide"
    }
   },
   "source": [
    "# Strings are Immutable\n",
    "- Mutable means you can reassign the value of a variable, or part of a variable\n",
    "    - Strings are immutable means you cannot reassign part of the string"
   ]
  },
  {
   "cell_type": "code",
   "execution_count": 8,
   "metadata": {
    "slideshow": {
     "slide_type": "subslide"
    }
   },
   "outputs": [
    {
     "ename": "TypeError",
     "evalue": "'str' object does not support item assignment",
     "output_type": "error",
     "traceback": [
      "\u001b[0;31m---------------------------------------------------------------------------\u001b[0m",
      "\u001b[0;31mTypeError\u001b[0m                                 Traceback (most recent call last)",
      "\u001b[0;32m<ipython-input-8-54ad988ad77f>\u001b[0m in \u001b[0;36m<module>\u001b[0;34m\u001b[0m\n\u001b[0;32m----> 1\u001b[0;31m \u001b[0mmy_str\u001b[0m\u001b[0;34m[\u001b[0m\u001b[0;36m0\u001b[0m\u001b[0;34m]\u001b[0m \u001b[0;34m=\u001b[0m \u001b[0;34m'h'\u001b[0m\u001b[0;34m\u001b[0m\u001b[0;34m\u001b[0m\u001b[0m\n\u001b[0m",
      "\u001b[0;31mTypeError\u001b[0m: 'str' object does not support item assignment"
     ]
    }
   ],
   "source": [
    "my_str[0] = 'h'"
   ]
  },
  {
   "cell_type": "code",
   "execution_count": null,
   "metadata": {
    "slideshow": {
     "slide_type": "subslide"
    }
   },
   "outputs": [],
   "source": [
    "# then what if we want to do it?\n",
    "# we can only concatenate the new value with the rest of the string\n",
    "# note that we create a new variable `my_str_new` and this will not change the original `my_str`\n",
    "my_str_new = 'h' + my_str[1:]\n",
    "my_str_new"
   ]
  },
  {
   "cell_type": "code",
   "execution_count": null,
   "metadata": {
    "slideshow": {
     "slide_type": "slide"
    }
   },
   "outputs": [],
   "source": [
    "# The `in` operator\n",
    "# This is a very useful operator to check if a certain part is in the string\n",
    "\n",
    "# this will return `True`\n",
    "'H' in my_str"
   ]
  },
  {
   "cell_type": "code",
   "execution_count": null,
   "metadata": {
    "slideshow": {
     "slide_type": "subslide"
    }
   },
   "outputs": [],
   "source": [
    "# this will return `False`\n",
    "'H' in my_str_new"
   ]
  },
  {
   "cell_type": "code",
   "execution_count": null,
   "metadata": {
    "slideshow": {
     "slide_type": "subslide"
    }
   },
   "outputs": [],
   "source": [
    "# you can check any part\n",
    "'monty' in my_str"
   ]
  },
  {
   "cell_type": "markdown",
   "metadata": {
    "slideshow": {
     "slide_type": "slide"
    }
   },
   "source": [
    "# String Comparion\n",
    "\n",
    "- Like integers and floats, we can compare strings\n",
    "    - string comparison is based on alphabetical order\n",
    "    - note that Python handles uppercase and lowercase differently\n",
    "        - uppercase < lowercase\n",
    "        - normally we do not compare mixed cases together, we may convert them into the same case (usually lowercase)"
   ]
  },
  {
   "cell_type": "code",
   "execution_count": null,
   "metadata": {
    "slideshow": {
     "slide_type": "subslide"
    }
   },
   "outputs": [],
   "source": [
    "word = input('Enter your word here:')\n",
    "\n",
    "if word < 'banana':\n",
    "    print('Your word, ' + word + ', comes before banana.')\n",
    "elif word > 'banana':\n",
    "    print('Your word, ' + word + ', comes after banana.')\n",
    "else:\n",
    "    print('All right, bananas.')\n"
   ]
  },
  {
   "cell_type": "markdown",
   "metadata": {
    "slideshow": {
     "slide_type": "slide"
    }
   },
   "source": [
    "# String Methods\n",
    "\n",
    "- String is an important type of Python objects/data types\n",
    "    - An object contains both _data_ (variable) and built-in _methods_ (functions)\n",
    "    - These functions can be applied to any _instance_ of the object\n",
    "        - an instance is any variable belonging to an object\n",
    "    - calling a method is similar as calling a function\n",
    "        - but calling a function _f_ is `f(argument)`\n",
    "        - while calling a method is `var.method()`"
   ]
  },
  {
   "cell_type": "code",
   "execution_count": null,
   "metadata": {
    "slideshow": {
     "slide_type": "subslide"
    }
   },
   "outputs": [],
   "source": [
    "type(my_str)"
   ]
  },
  {
   "cell_type": "code",
   "execution_count": null,
   "metadata": {
    "slideshow": {
     "slide_type": "subslide"
    }
   },
   "outputs": [],
   "source": [
    "# remember we can use `dir` to list all applicable methods\n",
    "print(dir(my_str))"
   ]
  },
  {
   "cell_type": "code",
   "execution_count": null,
   "metadata": {
    "slideshow": {
     "slide_type": "subslide"
    }
   },
   "outputs": [],
   "source": [
    "# if we have questions about any methods, we can use `help`\n",
    "help(str.capitalize)"
   ]
  },
  {
   "cell_type": "code",
   "execution_count": null,
   "metadata": {
    "slideshow": {
     "slide_type": "subslide"
    }
   },
   "outputs": [],
   "source": [
    "# Remember we said we always normalize strings to lowercase\n",
    "# we can use .lower() for that\n",
    "my_str.lower()"
   ]
  },
  {
   "cell_type": "code",
   "execution_count": null,
   "metadata": {
    "slideshow": {
     "slide_type": "subslide"
    }
   },
   "outputs": [],
   "source": [
    "# another important method is `find()` \n",
    "# if a search string appears in the target string\n",
    "# it will return the starting index of the string\n",
    "'banana'.find('a')"
   ]
  },
  {
   "cell_type": "code",
   "execution_count": null,
   "metadata": {
    "slideshow": {
     "slide_type": "subslide"
    }
   },
   "outputs": [],
   "source": [
    "# what would happen if the search string is not in the target string?\n",
    "'banana'.find('c')"
   ]
  },
  {
   "cell_type": "markdown",
   "metadata": {
    "slideshow": {
     "slide_type": "slide"
    }
   },
   "source": [
    "# Your Turn Here\n",
    "\n",
    "Clearly above result is not correct - `-1` means that the whole string is scanned and the sub-string is not found.\n",
    "\n",
    "Write your code below to fix it: if a search string is not found, output 'not found!'"
   ]
  },
  {
   "cell_type": "code",
   "execution_count": null,
   "metadata": {
    "slideshow": {
     "slide_type": "subslide"
    }
   },
   "outputs": [],
   "source": [
    "'banana'.find('b')"
   ]
  },
  {
   "cell_type": "code",
   "execution_count": null,
   "metadata": {
    "slideshow": {
     "slide_type": "slide"
    }
   },
   "outputs": [],
   "source": [
    "# `.find()` can be used to find a sub string in a string\n",
    "'banana'.find('na')"
   ]
  },
  {
   "cell_type": "code",
   "execution_count": null,
   "metadata": {
    "slideshow": {
     "slide_type": "subslide"
    }
   },
   "outputs": [],
   "source": [
    "# you can even tell `.find()` where to start\n",
    "# by providing a second argument in the method\n",
    "'banana'.find('na', 3)"
   ]
  },
  {
   "cell_type": "code",
   "execution_count": null,
   "metadata": {
    "slideshow": {
     "slide_type": "slide"
    }
   },
   "outputs": [],
   "source": [
    "# Another important method is `.strip()`\n",
    "# to remove white space (spaces, tabs, or newlines) from the beginning and end of a string\n",
    "line = '   Here we go      '\n",
    "line.strip()\n",
    "# this is extremely popular when reading text files\n",
    "# keep in mind that this doesn't work on the inner spaces "
   ]
  },
  {
   "cell_type": "code",
   "execution_count": null,
   "metadata": {
    "slideshow": {
     "slide_type": "subslide"
    }
   },
   "outputs": [],
   "source": [
    "# you can also test if a string begin with another string\n",
    "line.strip().startswith('Here')"
   ]
  },
  {
   "cell_type": "code",
   "execution_count": null,
   "metadata": {
    "slideshow": {
     "slide_type": "subslide"
    }
   },
   "outputs": [],
   "source": [
    "# remember Python is case-sensitive\n",
    "line.strip().startswith('here')"
   ]
  },
  {
   "cell_type": "code",
   "execution_count": null,
   "metadata": {
    "slideshow": {
     "slide_type": "subslide"
    }
   },
   "outputs": [],
   "source": [
    "# but we can fix that\n",
    "line.strip().lower().startswith('here')"
   ]
  },
  {
   "cell_type": "code",
   "execution_count": null,
   "metadata": {
    "slideshow": {
     "slide_type": "subslide"
    }
   },
   "outputs": [],
   "source": [
    "# similarly we can use `.endswith()` to test what the string end with\n",
    "line.strip().endswith('go')"
   ]
  },
  {
   "cell_type": "markdown",
   "metadata": {
    "slideshow": {
     "slide_type": "slide"
    }
   },
   "source": [
    "# Parsing Strings\n",
    "\n",
    "- One common task handling string is to find a meaningful part from it\n",
    "    - for example, email addresses, URLs, phone numbers, ...\n",
    "    - the key is to observe the string\n",
    "    - and find common patterns \n",
    "- For instance:\n",
    "    - the `phl332.fairfield.edu` part is called a _host_\n",
    "    - how can we extract that from the text?\n",
    "    - clearly we cannot use the exact match since the second string contains a host part (`fairfield.aws.com`) but not the exact text\n",
    "    \n",
    "```\n",
    "From tao@phl332.fairfield.edu Sun Sep 1 2019 11:23:04 PM \n",
    "From huntley@fairfield.aws.com Mon Sep 2 2019 00:12:45 AM \n",
    "```\n",
    "\n",
    "   "
   ]
  },
  {
   "cell_type": "code",
   "execution_count": null,
   "metadata": {
    "slideshow": {
     "slide_type": "subslide"
    }
   },
   "outputs": [],
   "source": [
    "log = 'From tao@phl332.fairfield.edu Sun Sep 1 2019 11:23:04 PM'\n",
    "\n",
    "# we know that the `host` part is right after `@`\n",
    "# so let's locate `@` first\n",
    "atpos = log.find('@')\n",
    "print(atpos)"
   ]
  },
  {
   "cell_type": "code",
   "execution_count": null,
   "metadata": {
    "slideshow": {
     "slide_type": "subslide"
    }
   },
   "outputs": [],
   "source": [
    "# then we need to observe the patter again to find where the `host` part ends\n",
    "# we notice that right after the `host` part there is a space ' '\n",
    "# lets find that - below statement find the 1st space after the position of '@' (atpos)\n",
    "sppos = log.find(' ', atpos)\n",
    "print(sppos)"
   ]
  },
  {
   "cell_type": "code",
   "execution_count": null,
   "metadata": {
    "slideshow": {
     "slide_type": "subslide"
    }
   },
   "outputs": [],
   "source": [
    "# now we can use slicing to extrac the `host` part\n",
    "# can you answer why we need to use `atpos+1`?\n",
    "host = log[atpos+1:sppos]\n",
    "print(host)"
   ]
  },
  {
   "cell_type": "code",
   "execution_count": null,
   "metadata": {
    "slideshow": {
     "slide_type": "subslide"
    }
   },
   "outputs": [],
   "source": [
    "# Let's put everything together into a function\n",
    "def host_find(log):\n",
    "    atpos = log.find('@')\n",
    "    sppos = log.find(' ', atpos)\n",
    "    host = log[atpos+1:sppos]\n",
    "    return host"
   ]
  },
  {
   "cell_type": "code",
   "execution_count": null,
   "metadata": {
    "slideshow": {
     "slide_type": "subslide"
    }
   },
   "outputs": [],
   "source": [
    "host_find(log)"
   ]
  },
  {
   "cell_type": "code",
   "execution_count": null,
   "metadata": {
    "slideshow": {
     "slide_type": "subslide"
    }
   },
   "outputs": [],
   "source": [
    "# Now let's try it on the next log item \n",
    "# to see whether the pattern we followed is correct\n",
    "log1 = 'From huntley@fairfield.aws.com Mon Sep 2 2019 00:12:45 AM '\n",
    "host_find(log1)"
   ]
  },
  {
   "cell_type": "markdown",
   "metadata": {
    "slideshow": {
     "slide_type": "slide"
    }
   },
   "source": [
    "# Format Operator\n",
    "\n",
    "- We knew that `%` when applied to integers is the modulus operator\n",
    "- But when `%` is applied to strings it is format operator\n",
    "    - when use the `%` operator, you can use following statement\n",
    "    - `%d` means the output is a decimal - do not confuse this as an integer\n",
    "    - variable is the value you want to format\n",
    "    \n",
    "```python\n",
    "'%d' % variable\n",
    "```"
   ]
  },
  {
   "cell_type": "code",
   "execution_count": null,
   "metadata": {
    "slideshow": {
     "slide_type": "subslide"
    }
   },
   "outputs": [],
   "source": [
    "var = 33\n",
    "'%d' % var"
   ]
  },
  {
   "cell_type": "code",
   "execution_count": null,
   "metadata": {
    "slideshow": {
     "slide_type": "subslide"
    }
   },
   "outputs": [],
   "source": [
    "# you can also format it as float\n",
    "# the `.3` part means you want to keep 3 digits after the decimal point\n",
    "'%.3f' % var"
   ]
  },
  {
   "cell_type": "code",
   "execution_count": null,
   "metadata": {
    "slideshow": {
     "slide_type": "subslide"
    }
   },
   "outputs": [],
   "source": [
    "# Formatting operator is particularly useful in print statements\n",
    "import math\n",
    "\n",
    "radius = 3.0\n",
    "area = math.pi * (radius ** 2)\n",
    "print('The area of circle with radius %d is: %.2f.' % (radius, area))"
   ]
  },
  {
   "cell_type": "code",
   "execution_count": null,
   "metadata": {
    "slideshow": {
     "slide_type": "subslide"
    }
   },
   "outputs": [],
   "source": [
    "# be careful of following errors\n",
    "print('%d %d %d' % (3, 1))"
   ]
  },
  {
   "cell_type": "code",
   "execution_count": null,
   "metadata": {
    "slideshow": {
     "slide_type": "subslide"
    }
   },
   "outputs": [],
   "source": [
    "# this is also a common error\n",
    "print('%d %d %d', % (3, 1, 2))"
   ]
  },
  {
   "cell_type": "code",
   "execution_count": null,
   "metadata": {
    "slideshow": {
     "slide_type": "subslide"
    }
   },
   "outputs": [],
   "source": [
    "# another common error\n",
    "print('%d' % 'dollar')"
   ]
  },
  {
   "cell_type": "markdown",
   "metadata": {
    "slideshow": {
     "slide_type": "slide"
    }
   },
   "source": [
    "# Your Turn Here\n",
    "Finish exercises below by following instructions of each of them. \n",
    "\n",
    "Make sure you provide proper __pseudo code__ for each of your program."
   ]
  },
  {
   "cell_type": "markdown",
   "metadata": {
    "slideshow": {
     "slide_type": "slide"
    }
   },
   "source": [
    "## Q1. Coding Problem\n",
    "\n",
    "Write a function `sub_reddit` to retrieve the title of the sub reddit from the URL.\n",
    "\n",
    "Example input and output:\n",
    "```\n",
    "sub_reddit(\"https://www.reddit.com/r/funny/\") ➞ \"funny\"\n",
    "\n",
    "sub_reddit(\"https://www.reddit.com/r/relationships/\") ➞ \"relationships\"\n",
    "\n",
    "sub_reddit(\"https://www.reddit.com/r/mildlyinteresting/\") ➞ \"mildlyinteresting\"\n",
    "```\n",
    "\n",
    "__HINT:__ notice what is before the sub reddit in the URLs in common? You might want to embed a test to ensure the pattern exists."
   ]
  },
  {
   "cell_type": "code",
   "execution_count": null,
   "metadata": {
    "slideshow": {
     "slide_type": "subslide"
    }
   },
   "outputs": [],
   "source": [
    "def sub_reddit():\n",
    "   \n",
    "    log = input('Please insert full subreddit link')\n",
    "    atpos = log.find('r/')\n",
    "    sppos = log.find('com/', atpos)\n",
    "    host = log[atpos+2:sppos]\n",
    "    return(host)\n",
    "sub_reddit()"
   ]
  },
  {
   "cell_type": "markdown",
   "metadata": {
    "slideshow": {
     "slide_type": "slide"
    }
   },
   "source": [
    "## Q2. Coding Problem\n",
    "\n",
    "Write a function `reverse_str()` to reverse any string from user input.\n",
    "\n",
    "Example input and output:\n",
    "```\n",
    "reverse_str('aabbcc') -> 'ccbbaa'\n",
    "reverse_str('123') -> '321'\n",
    "```\n",
    "\n",
    "__HINT:__ index of the last element is `-1`, the first element is `0`; the index of the second to last element is `-2`, and the second element is `1`, ..."
   ]
  },
  {
   "cell_type": "code",
   "execution_count": null,
   "metadata": {
    "slideshow": {
     "slide_type": "subslide"
    }
   },
   "outputs": [],
   "source": [
    "# define the function\n",
    "\n",
    "def reverse_str():\n",
    "    text = input()\n",
    "    text2 = text[::-1]\n",
    "    print(text2)\n",
    "               \n",
    "\n",
    "reverse_str()"
   ]
  },
  {
   "cell_type": "markdown",
   "metadata": {
    "slideshow": {
     "slide_type": "slide"
    }
   },
   "source": [
    "## Q3. Coding Problem\n",
    "\n",
    "Write a function to calculate the length and area of an arc in a circle.\n",
    "\n",
    "\\begin{equation*}\n",
    "    \\ length_{arc} = \\frac{n \\times{\\pi} \\times r}{180}\n",
    "\\end{equation*}\n",
    "\n",
    "\\begin{equation*}\n",
    "    \\ area_{arc} = \\frac{n \\times{\\pi} \\times r^2}{360}\n",
    "\\end{equation*}\n",
    "\n",
    "- in which `n` is the angle of the sector/arc (user input, integer)\n",
    "- $\\pi$ can be provided in the `math` package\n",
    "- `r` is the radius (user input, float)\n",
    "\n",
    "You need to use the __format operator__ to output like below:\n",
    "```\n",
    "The arc/sector with an angle of 90 and radius of 1 has a length of 1.571 and an area of 0.785.\n",
    "```\n",
    "\n",
    "__HINT:__ use `%d` nad `%f` properly in the output."
   ]
  },
  {
   "cell_type": "code",
   "execution_count": 5,
   "metadata": {
    "slideshow": {
     "slide_type": "subslide"
    }
   },
   "outputs": [
    {
     "name": "stdin",
     "output_type": "stream",
     "text": [
      "angle of the sector/arc:  59\n",
      "radius:  5\n"
     ]
    },
    {
     "name": "stdout",
     "output_type": "stream",
     "text": [
      "The arc/sector with an angle of 59.0 and radius of 5.0 has a length of 5.149 and an area of 12.872\n"
     ]
    }
   ],
   "source": [
    "import math\n",
    "\n",
    "def arc_length_area():\n",
    "    n = float(input('angle of the sector/arc: '))\n",
    "    r = float(input('radius: '))\n",
    "\n",
    "    \n",
    "    arc_length = (n * math.pi * r) / 180\n",
    "    arc_area = (n * math.pi * (r ** 2) ) / 360\n",
    "    print(\"The arc/sector with an angle of\" , n , \"and radius of\" , r , \"has a length of\",  '%.3f' % arc_length , \"and an area of\" , '%.3f' % arc_area )\n",
    "    \n",
    "arc_length_area()"
   ]
  },
  {
   "cell_type": "markdown",
   "metadata": {
    "slideshow": {
     "slide_type": "slide"
    }
   },
   "source": [
    "![DSB Logo](img/Dolan.jpg)\n",
    "# Python Data Types: Strings\n",
    "## PY4E Chapter 6\n",
    "### How data are stored and processed in Python"
   ]
  },
  {
   "cell_type": "markdown",
   "metadata": {
    "slideshow": {
     "slide_type": "slide"
    }
   },
   "source": [
    "![DSB Logo](img/Dolan.jpg)\n",
    "# Python Data Types: Lists\n",
    "## PY4E Chapter 8\n",
    "### How data are stored and processed in Python"
   ]
  },
  {
   "cell_type": "markdown",
   "metadata": {
    "slideshow": {
     "slide_type": "slide"
    }
   },
   "source": [
    "# List is also a Sequence\n",
    "\n",
    "- Like strings, lists are also sequences \n",
    "    - in essence, they are ordered collections\n",
    "    - _strings_ should be considered as _lists_\n",
    "    - lists are collections of values (aka. _items_ or _elements_)\n",
    "    - we use `[]` to denote a list"
   ]
  },
  {
   "cell_type": "code",
   "execution_count": null,
   "metadata": {
    "slideshow": {
     "slide_type": "subslide"
    }
   },
   "outputs": [],
   "source": [
    "# a list of integers\n",
    "[1, 2, 3, 4]\n",
    "# a list of strings\n",
    "['1', '2', '3', '4']\n",
    "# a list of mixed type\n",
    "[1, '2', 3, '4']\n",
    "# nested lists\n",
    "[[1], [2, 3, 4]]"
   ]
  },
  {
   "cell_type": "code",
   "execution_count": null,
   "metadata": {
    "slideshow": {
     "slide_type": "subslide"
    }
   },
   "outputs": [],
   "source": [
    "# you can use `len()` to get the length (number of elements in a list)\n",
    "# just like what we did with strings\n",
    "len([1, 2, 3, 4])"
   ]
  },
  {
   "cell_type": "code",
   "execution_count": null,
   "metadata": {
    "slideshow": {
     "slide_type": "subslide"
    }
   },
   "outputs": [],
   "source": [
    "# you can assign list as a variable\n",
    "# this is a list of integers again\n",
    "int_lst = [1, 2, 3, 4]\n",
    "# this is an empty list\n",
    "emp_lst = []"
   ]
  },
  {
   "cell_type": "markdown",
   "metadata": {
    "slideshow": {
     "slide_type": "slide"
    }
   },
   "source": [
    "# Lists are Mutable\n",
    "\n",
    "- unlike strings, lists are _mutable_\n",
    "    - means you can _assign/update_ value(s) in a list\n",
    "    - to update value(s) in a list, you can just index the element\n",
    "        - keep in mind that indices of a list also starts at __0__"
   ]
  },
  {
   "cell_type": "code",
   "execution_count": null,
   "metadata": {
    "slideshow": {
     "slide_type": "subslide"
    }
   },
   "outputs": [],
   "source": [
    "# update the last item\n",
    "int_lst[3] = 5\n",
    "int_lst"
   ]
  },
  {
   "cell_type": "markdown",
   "metadata": {
    "slideshow": {
     "slide_type": "slide"
    }
   },
   "source": [
    "# Traversing a List\n",
    "- Like strings, we can traverse lists using _loops_\n",
    "    - `for` loops are most common\n",
    "```python\n",
    "for intvar in int_lst:\n",
    "    print(intvar)\n",
    "```\n",
    "\n",
    "- However, if you want to update the values in a list, you should use `for` loops as following:\n",
    "```python\n",
    "for i in range(len(int_lst)): # here i is the index of element\n",
    "    int_lst[i] *= 2\n",
    "```"
   ]
  },
  {
   "cell_type": "code",
   "execution_count": null,
   "metadata": {
    "slideshow": {
     "slide_type": "subslide"
    }
   },
   "outputs": [],
   "source": [
    "# Nested lists are special - the child list(s) in the list are considered an element\n",
    "for item in [[1], [2, 3, 4]]:\n",
    "    print(item) # these are lists"
   ]
  },
  {
   "cell_type": "markdown",
   "metadata": {
    "slideshow": {
     "slide_type": "slide"
    }
   },
   "source": [
    "# YOUR TURN HERE\n",
    "\n",
    "If we want to access the items in the child lists above, what can we do? Write your code below."
   ]
  },
  {
   "cell_type": "code",
   "execution_count": null,
   "metadata": {
    "slideshow": {
     "slide_type": "subslide"
    }
   },
   "outputs": [],
   "source": []
  },
  {
   "cell_type": "markdown",
   "metadata": {
    "slideshow": {
     "slide_type": "slide"
    }
   },
   "source": [
    "# One-Liners\n",
    "- A cool thing we can do in Python is we can write one-liner for loops\n",
    "    - meaning instead of writing the for loop in multiple lines\n",
    "    - we can write them in one line (all pros do that)\n",
    "    - for instance:\n",
    "    \n",
    "```python\n",
    "for i in range(len(int_lst)): # here i is the index of element\n",
    "    int_lst[i] *= 2\n",
    "```"
   ]
  },
  {
   "cell_type": "code",
   "execution_count": null,
   "metadata": {
    "slideshow": {
     "slide_type": "subslide"
    }
   },
   "outputs": [],
   "source": [
    "[i * 2 for i in int_lst] # here `i` is the element in the list"
   ]
  },
  {
   "cell_type": "code",
   "execution_count": null,
   "metadata": {},
   "outputs": [],
   "source": [
    "# another exmaple - extract even number from following list\n",
    "# for i in [1, 2, 3, 4, 5]:\n",
    "#    if i % 2 == 0\n",
    "[i for i in [1, 2, 3, 4, 5] if i % 2 == 0]"
   ]
  },
  {
   "cell_type": "markdown",
   "metadata": {
    "slideshow": {
     "slide_type": "slide"
    }
   },
   "source": [
    "# Lists Operations\n",
    "\n",
    "- Lists have two main operators `+` and `*`\n",
    "    - `+` operator concatenates two or more lists\n",
    "    - `*` operator duplicate the list several times"
   ]
  },
  {
   "cell_type": "code",
   "execution_count": null,
   "metadata": {
    "slideshow": {
     "slide_type": "subslide"
    }
   },
   "outputs": [],
   "source": [
    "# `+` operator\n",
    "[1,2,3] + [4, 5]"
   ]
  },
  {
   "cell_type": "code",
   "execution_count": null,
   "metadata": {},
   "outputs": [],
   "source": [
    "\n",
    "# however, this will not work\n",
    "[1, 2, 3] + [2]"
   ]
  },
  {
   "cell_type": "code",
   "execution_count": null,
   "metadata": {
    "slideshow": {
     "slide_type": "subslide"
    }
   },
   "outputs": [],
   "source": [
    "# `*` operator\n",
    "[1, 2, 3] * 3"
   ]
  },
  {
   "cell_type": "markdown",
   "metadata": {
    "slideshow": {
     "slide_type": "slide"
    }
   },
   "source": [
    "# Slicing a list\n",
    "\n",
    "- Like strings, we can slice a list using `:`\n",
    "    - again, indices of lists starts at `0`\n",
    "    - index of last item in a list is `-1`"
   ]
  },
  {
   "cell_type": "code",
   "execution_count": null,
   "metadata": {
    "slideshow": {
     "slide_type": "subslide"
    }
   },
   "outputs": [],
   "source": [
    "my_lst = [1, 2, 3] * 3\n",
    "my_lst[1:3]"
   ]
  },
  {
   "cell_type": "code",
   "execution_count": null,
   "metadata": {
    "slideshow": {
     "slide_type": "subslide"
    }
   },
   "outputs": [],
   "source": [
    "my_lst[-3:-1]"
   ]
  },
  {
   "cell_type": "code",
   "execution_count": null,
   "metadata": {
    "slideshow": {
     "slide_type": "subslide"
    }
   },
   "outputs": [],
   "source": [
    "my_lst[:]"
   ]
  },
  {
   "cell_type": "code",
   "execution_count": null,
   "metadata": {
    "slideshow": {
     "slide_type": "subslide"
    }
   },
   "outputs": [],
   "source": [
    "# Since lists are mutable, any slice of a list is mutable too\n",
    "my_lst[1:3] = [4,5]\n",
    "my_lst"
   ]
  },
  {
   "cell_type": "code",
   "execution_count": null,
   "metadata": {
    "slideshow": {
     "slide_type": "subslide"
    }
   },
   "outputs": [],
   "source": [
    "# however, this will not work as expected\n",
    "# what went wrong?\n",
    "my_lst[1:3] = [7, 8, 9]\n",
    "my_lst"
   ]
  },
  {
   "cell_type": "markdown",
   "metadata": {
    "slideshow": {
     "slide_type": "slide"
    }
   },
   "source": [
    "# List Methods\n",
    "\n",
    "- Two most important list methods are `.append()` and `.extend()`\n",
    "    - `.append()` add a single __element/item__ to the end of the list\n",
    "        - if you are inserting single values to a list, you can embed `.append()` in a loop\n",
    "    - `.extend()` add all elements from __another list__ to the end of the list\n",
    "        - `.extend()` is the same as `+'"
   ]
  },
  {
   "cell_type": "code",
   "execution_count": null,
   "metadata": {
    "slideshow": {
     "slide_type": "subslide"
    }
   },
   "outputs": [],
   "source": [
    "lst1 = [1,2,3]\n",
    "# `.append()` only takes an argument of a single element\n",
    "lst1.append(4)\n",
    "lst1"
   ]
  },
  {
   "cell_type": "code",
   "execution_count": null,
   "metadata": {
    "slideshow": {
     "slide_type": "subslide"
    }
   },
   "outputs": [],
   "source": [
    "lst2 = [5, 6]\n",
    "lst1.extend(lst2)\n",
    "print(lst1)"
   ]
  },
  {
   "cell_type": "code",
   "execution_count": null,
   "metadata": {
    "slideshow": {
     "slide_type": "subslide"
    }
   },
   "outputs": [],
   "source": [
    "# `lst2` remains unchanged\n",
    "lst2"
   ]
  },
  {
   "cell_type": "code",
   "execution_count": null,
   "metadata": {
    "slideshow": {
     "slide_type": "slide"
    }
   },
   "outputs": [],
   "source": [
    "# Another useful method of list is `.sort()`\n",
    "# which can sort the elements in a list, as the name suggests\n",
    "my_lst1 = [5, 2, 4, 8, 6, 1]\n",
    "my_lst1.sort()\n",
    "my_lst1"
   ]
  },
  {
   "cell_type": "code",
   "execution_count": null,
   "metadata": {
    "slideshow": {
     "slide_type": "subslide"
    }
   },
   "outputs": [],
   "source": [
    "# you can also sort a list of strings\n",
    "my_lst2 = ['z', 'y', 'x']\n",
    "my_lst2.sort()\n",
    "my_lst2\n",
    "\n",
    "# Be careful if your list contains different data types"
   ]
  },
  {
   "cell_type": "markdown",
   "metadata": {
    "slideshow": {
     "slide_type": "slide"
    }
   },
   "source": [
    "# Deleting Elements\n",
    "\n",
    "- We alredy know how to insert (add) and update elements in the list, how about _deleting_ elements?\n",
    "    - Python provides several methods to delete elements\n",
    "        - if you know the index of the element, you can always use `.pop()` \n",
    "        - you can also use a function called `del[i]` - in which `i` is the index of the element\n",
    "            - difference between `.pop()` and `del[]` is that the element popped can be stored in another element\n",
    "        - if you know the element you want to delete, but not the index, you can use the `.remove()` method"
   ]
  },
  {
   "cell_type": "code",
   "execution_count": null,
   "metadata": {
    "slideshow": {
     "slide_type": "subslide"
    }
   },
   "outputs": [],
   "source": [
    "# example of `.pop()`\n",
    "my_lst2 = ['z', 'y', 'x']\n",
    "# remove the last element\n",
    "popped = my_lst2.pop(2)\n",
    "# should be ['z', 'y']\n",
    "print(my_lst2)\n",
    "# contains 'x'\n",
    "print(popped)"
   ]
  },
  {
   "cell_type": "code",
   "execution_count": null,
   "metadata": {
    "slideshow": {
     "slide_type": "subslide"
    }
   },
   "outputs": [],
   "source": [
    "# example of `del[]`\n",
    "my_lst2 = ['z', 'y', 'x']\n",
    "del my_lst2[2]\n",
    "print(my_lst2)"
   ]
  },
  {
   "cell_type": "code",
   "execution_count": null,
   "metadata": {
    "slideshow": {
     "slide_type": "subslide"
    }
   },
   "outputs": [],
   "source": [
    "# you can also delete a slice of a list\n",
    "my_lst2 = ['z', 'y', 'x']\n",
    "del my_lst2[1:2]\n",
    "print(my_lst2)"
   ]
  },
  {
   "cell_type": "code",
   "execution_count": null,
   "metadata": {
    "slideshow": {
     "slide_type": "subslide"
    }
   },
   "outputs": [],
   "source": [
    "# example of `.remove()`\n",
    "my_lst2 = ['z', 'y', 'x']\n",
    "my_lst2.remove('x')\n",
    "print(my_lst2)"
   ]
  },
  {
   "cell_type": "markdown",
   "metadata": {
    "slideshow": {
     "slide_type": "slide"
    }
   },
   "source": [
    "# List Functions\n",
    "\n",
    "- List provides a variety of functions allowing you quickly take a look of a numeric list\n",
    "    - `len()` provides the number of elements in the list\n",
    "    - `max()` provides the maximal number in the list\n",
    "    - `min()` provides the minimal number in the list\n",
    "    - `sum()` provides the total sum of the list\n",
    "   "
   ]
  },
  {
   "cell_type": "code",
   "execution_count": null,
   "metadata": {
    "slideshow": {
     "slide_type": "subslide"
    }
   },
   "outputs": [],
   "source": [
    "nums = [3, 41, 12, 9, 74, 15]\n",
    "# number of elements\n",
    "print(len(nums))\n",
    "# maximum\n",
    "print(max(nums))\n",
    "# minimum\n",
    "print(min(nums))\n",
    "# sum total\n",
    "print(sum(nums))\n",
    "# arithmethic mean, aka. mean\n",
    "print(sum(nums)/len(nums))"
   ]
  },
  {
   "cell_type": "markdown",
   "metadata": {
    "slideshow": {
     "slide_type": "slide"
    }
   },
   "source": [
    "# Lists and Strings\n",
    "- Strings and lists are very similar\n",
    "    - we can see strings as lists of _characters_ that is _immutable_\n",
    "    - you can convert a string to a list of characters by using `list()`\n",
    "    - you can also convert a multi-world string (e.g. an English sentence) using `.split()` method"
   ]
  },
  {
   "cell_type": "code",
   "execution_count": null,
   "metadata": {
    "slideshow": {
     "slide_type": "subslide"
    }
   },
   "outputs": [],
   "source": [
    "my_str = 'hello world!'\n",
    "my_str_lst = list(my_str)\n",
    "my_str_lst"
   ]
  },
  {
   "cell_type": "code",
   "execution_count": null,
   "metadata": {
    "slideshow": {
     "slide_type": "subslide"
    }
   },
   "outputs": [],
   "source": [
    "word_lst = my_str.split()\n",
    "word_lst"
   ]
  },
  {
   "cell_type": "code",
   "execution_count": null,
   "metadata": {
    "slideshow": {
     "slide_type": "subslide"
    }
   },
   "outputs": [],
   "source": [
    "# you can specify what you want to split on\n",
    "# by passing the delimiter as an argument\n",
    "weird_str = 'this=is=a=string'\n",
    "weird_str.split('=')"
   ]
  },
  {
   "cell_type": "code",
   "execution_count": null,
   "metadata": {
    "slideshow": {
     "slide_type": "subslide"
    }
   },
   "outputs": [],
   "source": [
    "# you can reverse `.split()` by using `.join()`\n",
    "' '.join(weird_str.split('='))"
   ]
  },
  {
   "cell_type": "markdown",
   "metadata": {
    "slideshow": {
     "slide_type": "slide"
    }
   },
   "source": [
    "# Lists Equality and Aliasing\n",
    "\n",
    "- In some logical statements, we may want to test if two lists are equal\n",
    "    - we can always use `==` operator like we did with integers, floats, ...\n",
    "    - however, we also introduced another operater called `is` \n",
    "        - if you try `1 is 1` you will get the expected result `True`\n",
    "        - but if you try `[1] is [1]` you will not get expected results `False`\n",
    "        - This is because `is` test whether they are the same __object__ (refer to pp. 99 in PY4E for more details)\n",
    "        - And lists with the same value are different __objects__ \n",
    "        - That is where we will use _aliasing_\n",
    "    \n"
   ]
  },
  {
   "cell_type": "code",
   "execution_count": null,
   "metadata": {
    "slideshow": {
     "slide_type": "subslide"
    }
   },
   "outputs": [],
   "source": [
    "lst1 = [1, 2, 3]\n",
    "lst2 = [1, 2, 3]\n",
    "lst1 == lst2"
   ]
  },
  {
   "cell_type": "code",
   "execution_count": null,
   "metadata": {
    "slideshow": {
     "slide_type": "subslide"
    }
   },
   "outputs": [],
   "source": [
    "lst1 = [1, 2, 3]\n",
    "lst2 = [1, 2, 4]\n",
    "lst1 == lst2"
   ]
  },
  {
   "cell_type": "code",
   "execution_count": null,
   "metadata": {
    "slideshow": {
     "slide_type": "subslide"
    }
   },
   "outputs": [],
   "source": [
    "# True\n",
    "1 is 1"
   ]
  },
  {
   "cell_type": "code",
   "execution_count": null,
   "metadata": {
    "slideshow": {
     "slide_type": "subslide"
    }
   },
   "outputs": [],
   "source": [
    "# ???\n",
    "[1] is [1]"
   ]
  },
  {
   "cell_type": "code",
   "execution_count": null,
   "metadata": {
    "slideshow": {
     "slide_type": "subslide"
    }
   },
   "outputs": [],
   "source": [
    "lst_a = [1]\n",
    "# create an alias of `lst_a` as `lst_b`\n",
    "lst_b = lst_a\n",
    "# Now they are the same object\n",
    "lst_a is lst_b"
   ]
  },
  {
   "cell_type": "markdown",
   "metadata": {
    "slideshow": {
     "slide_type": "slide"
    }
   },
   "source": [
    "# Your Turn Here\n",
    "Finish exercises below by following instructions of each of them. \n",
    "\n",
    "Make sure you provide proper __pseudo code__ for each of your program."
   ]
  },
  {
   "cell_type": "markdown",
   "metadata": {
    "slideshow": {
     "slide_type": "slide"
    }
   },
   "source": [
    "## Q1. Coding Problem\n",
    "\n",
    "Write a function to return the `n` last elements from a list.\n",
    "- `n` should be from user input, as an integer.\n",
    "    - if `n` is not an integer, return 'Please enter an integer!'\n",
    "- `test_lst` should be a list of 5 - 7 random integers between 0 and 9 (_HINT_: random.randint() and a `for` loop)\n",
    "    - if `n` is greater than the length of `test_lst`, return 'Pleae enter a valid integer!'\n",
    "- Both `test_lst` and `n` should be arguments of the function\n",
    "- If `n = 0`, return an empty list `[]`.\n",
    "\n",
    "Example input and output:\n",
    "```\n",
    "return_last([1, 2, 3, 4, 5], 1) -> 5\n",
    "return_last([4, 3, 9, 9, 7, 6], 3) -> [9, 7, 6]\n",
    "return_last([1, 2, 3, 4, 5], 7) -> 'Pleae enter a valid integer!'\n",
    "return_last([1, 2, 3, 4, 5], 0) -> []\n",
    "return_last([1, 2, 3, 4, 5], 0.1) -> 'Please enter an integer!'\n",
    "```"
   ]
  },
  {
   "cell_type": "code",
   "execution_count": null,
   "metadata": {
    "slideshow": {
     "slide_type": "subslide"
    }
   },
   "outputs": [],
   "source": [
    "import random \n",
    "\n",
    "def lst_gen():\n",
    "    int_lst = []\n",
    "    i = random.randint(5,7)\n",
    "\n",
    "    for x in range(i):\n",
    "        rand_int = random.randint(0,9)\n",
    "        int_lst.append(rand_int)\n",
    "\n",
    "    return(int_lst)"
   ]
  },
  {
   "cell_type": "code",
   "execution_count": null,
   "metadata": {},
   "outputs": [],
   "source": [
    "test_lst = lst_gen()\n",
    "test_lst"
   ]
  },
  {
   "cell_type": "code",
   "execution_count": null,
   "metadata": {},
   "outputs": [],
   "source": []
  },
  {
   "cell_type": "code",
   "execution_count": null,
   "metadata": {},
   "outputs": [],
   "source": []
  },
  {
   "cell_type": "code",
   "execution_count": null,
   "metadata": {},
   "outputs": [],
   "source": [
    "def my_func():\n",
    "\n",
    "    n = input()\n",
    "\n",
    "    try:\n",
    "        n = int(n)\n",
    "    \n",
    "    except:\n",
    "        return('Please enter an integer!')\n",
    "\n",
    "    if (n > len(test_lst)):\n",
    "        return(\"Please enter a valid integer!\")\n",
    "    elif n == 0:\n",
    "        return([])\n",
    "    elif n < 0 \n",
    "        return(test_lst[:-n])\n",
    "\n",
    "    else:\n",
    "        return(test_lst[-n:])"
   ]
  },
  {
   "cell_type": "code",
   "execution_count": null,
   "metadata": {},
   "outputs": [],
   "source": [
    "my_func()"
   ]
  },
  {
   "cell_type": "markdown",
   "metadata": {
    "slideshow": {
     "slide_type": "slide"
    }
   },
   "source": [
    "## Q2. Coding Problem\n",
    "\n",
    "Write a program to extract any integer between 0 and 100, which is divisible by 3 __and__ 5, into a list. And calculate the average of the list.\n",
    "\n",
    "__Additional challenge__: write the program as a _one-liner_."
   ]
  },
  {
   "cell_type": "code",
   "execution_count": 9,
   "metadata": {},
   "outputs": [
    {
     "data": {
      "text/plain": [
       "52.5"
      ]
     },
     "execution_count": 9,
     "metadata": {},
     "output_type": "execute_result"
    }
   ],
   "source": [
    "import statistics\n",
    "statistics.mean(i for i in range(1,100) if i % 3 == 0 and i % 5 ==0)"
   ]
  },
  {
   "cell_type": "markdown",
   "metadata": {
    "slideshow": {
     "slide_type": "slide"
    }
   },
   "source": [
    "# Classwork (start here in class)\n",
    "You can start working on them right now:\n",
    "- Read Chapter 6 and 8 in PY4E\n",
    "- If time permits, start in on your homework. \n",
    "- Ask questions when you need help. Use this time to get help from the professor!\n",
    "\n",
    "# Homework (do at home)\n",
    "The following is due before class next week:\n",
    "  - Any remaining classwork from tonight\n",
    "  - Data Camp “Python Lists” assignment \n",
    "\n",
    "Note: All work on Data Camp is logged. Don't try to fake it!\n",
    "\n",
    "Please email jtao@fairfield.edu if you have any problems or questions."
   ]
  },
  {
   "cell_type": "markdown",
   "metadata": {
    "slideshow": {
     "slide_type": "slide"
    }
   },
   "source": [
    "![DSB Logo](img/Dolan.jpg)\n",
    "# Python Data Types: Lists\n",
    "## PY4E Chapter 8\n",
    "### How data are stored and processed in Python"
   ]
  },
  {
   "cell_type": "code",
   "execution_count": null,
   "metadata": {},
   "outputs": [],
   "source": []
  }
 ],
 "metadata": {
  "celltoolbar": "Slideshow",
  "kernelspec": {
   "display_name": "Python 3",
   "language": "python",
   "name": "python3"
  },
  "language_info": {
   "codemirror_mode": {
    "name": "ipython",
    "version": 3
   },
   "file_extension": ".py",
   "mimetype": "text/x-python",
   "name": "python",
   "nbconvert_exporter": "python",
   "pygments_lexer": "ipython3",
   "version": "3.6.7"
  }
 },
 "nbformat": 4,
 "nbformat_minor": 2
}
